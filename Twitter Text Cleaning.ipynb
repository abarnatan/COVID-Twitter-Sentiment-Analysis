{
 "cells": [
  {
   "cell_type": "code",
   "execution_count": 1,
   "metadata": {},
   "outputs": [],
   "source": [
    "import pandas as pd\n",
    "import tweepy\n",
    "import re\n",
    "from textblob import TextBlob\n",
    "import matplotlib.pyplot as plt\n",
    "import string"
   ]
  },
  {
   "cell_type": "code",
   "execution_count": 10,
   "metadata": {},
   "outputs": [],
   "source": [
    "#loads the CSV file and selects only the column relevant to this analysis\n",
    "df = pd.read_csv(\"covidvaccinedata.csv\", usecols = [0,10])\n"
   ]
  },
  {
   "cell_type": "code",
   "execution_count": 11,
   "metadata": {},
   "outputs": [
    {
     "data": {
      "text/html": [
       "<div>\n",
       "<style scoped>\n",
       "    .dataframe tbody tr th:only-of-type {\n",
       "        vertical-align: middle;\n",
       "    }\n",
       "\n",
       "    .dataframe tbody tr th {\n",
       "        vertical-align: top;\n",
       "    }\n",
       "\n",
       "    .dataframe thead th {\n",
       "        text-align: right;\n",
       "    }\n",
       "</style>\n",
       "<table border=\"1\" class=\"dataframe\">\n",
       "  <thead>\n",
       "    <tr style=\"text-align: right;\">\n",
       "      <th></th>\n",
       "      <th>index</th>\n",
       "      <th>text</th>\n",
       "    </tr>\n",
       "  </thead>\n",
       "  <tbody>\n",
       "    <tr>\n",
       "      <th>0</th>\n",
       "      <td>1</td>\n",
       "      <td>Australia to Manufacture Covid-19 Vaccine and ...</td>\n",
       "    </tr>\n",
       "    <tr>\n",
       "      <th>1</th>\n",
       "      <td>2</td>\n",
       "      <td>#CoronavirusVaccine #CoronaVaccine #CovidVacci...</td>\n",
       "    </tr>\n",
       "    <tr>\n",
       "      <th>2</th>\n",
       "      <td>3</td>\n",
       "      <td>Deaths due to COVID-19 in Affected Countries\\n...</td>\n",
       "    </tr>\n",
       "    <tr>\n",
       "      <th>3</th>\n",
       "      <td>4</td>\n",
       "      <td>@Team_Subhashree @subhashreesotwe @iamrajchoco...</td>\n",
       "    </tr>\n",
       "    <tr>\n",
       "      <th>4</th>\n",
       "      <td>5</td>\n",
       "      <td>@michellegrattan @ConversationEDU This is what...</td>\n",
       "    </tr>\n",
       "    <tr>\n",
       "      <th>...</th>\n",
       "      <td>...</td>\n",
       "      <td>...</td>\n",
       "    </tr>\n",
       "    <tr>\n",
       "      <th>156491</th>\n",
       "      <td>156492</td>\n",
       "      <td>Very good news about the efficacy of the J&amp;amp...</td>\n",
       "    </tr>\n",
       "    <tr>\n",
       "      <th>156492</th>\n",
       "      <td>156493</td>\n",
       "      <td>🇨🇳's Foreign Minister Wang Yi has also said th...</td>\n",
       "    </tr>\n",
       "    <tr>\n",
       "      <th>156493</th>\n",
       "      <td>156494</td>\n",
       "      <td>Super excited to have received my second #covi...</td>\n",
       "    </tr>\n",
       "    <tr>\n",
       "      <th>156494</th>\n",
       "      <td>156495</td>\n",
       "      <td>Repeat after me, Canadians are polite, they wo...</td>\n",
       "    </tr>\n",
       "    <tr>\n",
       "      <th>156495</th>\n",
       "      <td>156496</td>\n",
       "      <td>Instead of postponing psl why not vaccinate al...</td>\n",
       "    </tr>\n",
       "  </tbody>\n",
       "</table>\n",
       "<p>156496 rows × 2 columns</p>\n",
       "</div>"
      ],
      "text/plain": [
       "         index                                               text\n",
       "0            1  Australia to Manufacture Covid-19 Vaccine and ...\n",
       "1            2  #CoronavirusVaccine #CoronaVaccine #CovidVacci...\n",
       "2            3  Deaths due to COVID-19 in Affected Countries\\n...\n",
       "3            4  @Team_Subhashree @subhashreesotwe @iamrajchoco...\n",
       "4            5  @michellegrattan @ConversationEDU This is what...\n",
       "...        ...                                                ...\n",
       "156491  156492  Very good news about the efficacy of the J&amp...\n",
       "156492  156493  🇨🇳's Foreign Minister Wang Yi has also said th...\n",
       "156493  156494  Super excited to have received my second #covi...\n",
       "156494  156495  Repeat after me, Canadians are polite, they wo...\n",
       "156495  156496  Instead of postponing psl why not vaccinate al...\n",
       "\n",
       "[156496 rows x 2 columns]"
      ]
     },
     "execution_count": 11,
     "metadata": {},
     "output_type": "execute_result"
    }
   ],
   "source": [
    "df"
   ]
  },
  {
   "cell_type": "code",
   "execution_count": 12,
   "metadata": {},
   "outputs": [],
   "source": [
    "# drop the NaNs in the 'text' column\n",
    "\n",
    "df3 = df.dropna(subset=['text'])"
   ]
  },
  {
   "cell_type": "code",
   "execution_count": 13,
   "metadata": {},
   "outputs": [
    {
     "data": {
      "text/html": [
       "<div>\n",
       "<style scoped>\n",
       "    .dataframe tbody tr th:only-of-type {\n",
       "        vertical-align: middle;\n",
       "    }\n",
       "\n",
       "    .dataframe tbody tr th {\n",
       "        vertical-align: top;\n",
       "    }\n",
       "\n",
       "    .dataframe thead th {\n",
       "        text-align: right;\n",
       "    }\n",
       "</style>\n",
       "<table border=\"1\" class=\"dataframe\">\n",
       "  <thead>\n",
       "    <tr style=\"text-align: right;\">\n",
       "      <th></th>\n",
       "      <th>index</th>\n",
       "      <th>text</th>\n",
       "    </tr>\n",
       "  </thead>\n",
       "  <tbody>\n",
       "  </tbody>\n",
       "</table>\n",
       "</div>"
      ],
      "text/plain": [
       "Empty DataFrame\n",
       "Columns: [index, text]\n",
       "Index: []"
      ]
     },
     "execution_count": 13,
     "metadata": {},
     "output_type": "execute_result"
    }
   ],
   "source": [
    "# identify the ones that are NaN\n",
    "\n",
    "df3[df3['text'].isna() == True]"
   ]
  },
  {
   "cell_type": "code",
   "execution_count": 14,
   "metadata": {},
   "outputs": [
    {
     "data": {
      "text/plain": [
       "array([<class 'str'>], dtype=object)"
      ]
     },
     "execution_count": 14,
     "metadata": {},
     "output_type": "execute_result"
    }
   ],
   "source": [
    "# validate the data types in the dataset\n",
    "\n",
    "df3['text'].apply(lambda x : type(x)).unique()"
   ]
  },
  {
   "cell_type": "code",
   "execution_count": 15,
   "metadata": {},
   "outputs": [
    {
     "data": {
      "text/html": [
       "<div>\n",
       "<style scoped>\n",
       "    .dataframe tbody tr th:only-of-type {\n",
       "        vertical-align: middle;\n",
       "    }\n",
       "\n",
       "    .dataframe tbody tr th {\n",
       "        vertical-align: top;\n",
       "    }\n",
       "\n",
       "    .dataframe thead th {\n",
       "        text-align: right;\n",
       "    }\n",
       "</style>\n",
       "<table border=\"1\" class=\"dataframe\">\n",
       "  <thead>\n",
       "    <tr style=\"text-align: right;\">\n",
       "      <th></th>\n",
       "      <th>index</th>\n",
       "      <th>text</th>\n",
       "    </tr>\n",
       "  </thead>\n",
       "  <tbody>\n",
       "    <tr>\n",
       "      <th>0</th>\n",
       "      <td>1</td>\n",
       "      <td>Australia to Manufacture Covid-19 Vaccine and ...</td>\n",
       "    </tr>\n",
       "    <tr>\n",
       "      <th>1</th>\n",
       "      <td>2</td>\n",
       "      <td>#CoronavirusVaccine #CoronaVaccine #CovidVacci...</td>\n",
       "    </tr>\n",
       "    <tr>\n",
       "      <th>2</th>\n",
       "      <td>3</td>\n",
       "      <td>Deaths due to COVID-19 in Affected Countries\\n...</td>\n",
       "    </tr>\n",
       "    <tr>\n",
       "      <th>3</th>\n",
       "      <td>4</td>\n",
       "      <td>@Team_Subhashree @subhashreesotwe @iamrajchoco...</td>\n",
       "    </tr>\n",
       "    <tr>\n",
       "      <th>4</th>\n",
       "      <td>5</td>\n",
       "      <td>@michellegrattan @ConversationEDU This is what...</td>\n",
       "    </tr>\n",
       "    <tr>\n",
       "      <th>...</th>\n",
       "      <td>...</td>\n",
       "      <td>...</td>\n",
       "    </tr>\n",
       "    <tr>\n",
       "      <th>156491</th>\n",
       "      <td>156492</td>\n",
       "      <td>Very good news about the efficacy of the J&amp;amp...</td>\n",
       "    </tr>\n",
       "    <tr>\n",
       "      <th>156492</th>\n",
       "      <td>156493</td>\n",
       "      <td>🇨🇳's Foreign Minister Wang Yi has also said th...</td>\n",
       "    </tr>\n",
       "    <tr>\n",
       "      <th>156493</th>\n",
       "      <td>156494</td>\n",
       "      <td>Super excited to have received my second #covi...</td>\n",
       "    </tr>\n",
       "    <tr>\n",
       "      <th>156494</th>\n",
       "      <td>156495</td>\n",
       "      <td>Repeat after me, Canadians are polite, they wo...</td>\n",
       "    </tr>\n",
       "    <tr>\n",
       "      <th>156495</th>\n",
       "      <td>156496</td>\n",
       "      <td>Instead of postponing psl why not vaccinate al...</td>\n",
       "    </tr>\n",
       "  </tbody>\n",
       "</table>\n",
       "<p>156491 rows × 2 columns</p>\n",
       "</div>"
      ],
      "text/plain": [
       "         index                                               text\n",
       "0            1  Australia to Manufacture Covid-19 Vaccine and ...\n",
       "1            2  #CoronavirusVaccine #CoronaVaccine #CovidVacci...\n",
       "2            3  Deaths due to COVID-19 in Affected Countries\\n...\n",
       "3            4  @Team_Subhashree @subhashreesotwe @iamrajchoco...\n",
       "4            5  @michellegrattan @ConversationEDU This is what...\n",
       "...        ...                                                ...\n",
       "156491  156492  Very good news about the efficacy of the J&amp...\n",
       "156492  156493  🇨🇳's Foreign Minister Wang Yi has also said th...\n",
       "156493  156494  Super excited to have received my second #covi...\n",
       "156494  156495  Repeat after me, Canadians are polite, they wo...\n",
       "156495  156496  Instead of postponing psl why not vaccinate al...\n",
       "\n",
       "[156491 rows x 2 columns]"
      ]
     },
     "execution_count": 15,
     "metadata": {},
     "output_type": "execute_result"
    }
   ],
   "source": [
    "df3"
   ]
  },
  {
   "cell_type": "code",
   "execution_count": 16,
   "metadata": {},
   "outputs": [
    {
     "name": "stderr",
     "output_type": "stream",
     "text": [
      "C:\\Users\\15038\\anaconda3\\envs\\PythonData\\lib\\site-packages\\ipykernel_launcher.py:20: SettingWithCopyWarning: \n",
      "A value is trying to be set on a copy of a slice from a DataFrame.\n",
      "Try using .loc[row_indexer,col_indexer] = value instead\n",
      "\n",
      "See the caveats in the documentation: https://pandas.pydata.org/pandas-docs/stable/user_guide/indexing.html#returning-a-view-versus-a-copy\n"
     ]
    }
   ],
   "source": [
    "def cleanUpTweet(txt):\n",
    "    # Remove mentions\n",
    "    txt = re.sub(r'@[A-Za-z0-9_]+', '', txt)\n",
    "    # Remove hashtags\n",
    "    txt = re.sub(r'#', '', txt)\n",
    "    # Remove retweets:\n",
    "    txt = re.sub(r'RT : ', '', txt)\n",
    "    # Remove urls\n",
    "    txt = re.sub(r'https?:\\/\\/[A-Za-z0-9\\.\\/]+', '', txt) \n",
    "    #removes stop words\n",
    "    txt = re.sub(r'the', '', txt)\n",
    "    txt = re.sub(r'and', '', txt)\n",
    "    txt = re.sub(r'to', '', txt)\n",
    "    \n",
    "    #remove punctuations \n",
    "    txt = re.sub(r'[^\\w\\s]', '', txt)\n",
    "    \n",
    "    return txt\n",
    "\n",
    "df3['text'] = df3['text'].apply(cleanUpTweet)"
   ]
  },
  {
   "cell_type": "code",
   "execution_count": 17,
   "metadata": {},
   "outputs": [
    {
     "data": {
      "text/html": [
       "<div>\n",
       "<style scoped>\n",
       "    .dataframe tbody tr th:only-of-type {\n",
       "        vertical-align: middle;\n",
       "    }\n",
       "\n",
       "    .dataframe tbody tr th {\n",
       "        vertical-align: top;\n",
       "    }\n",
       "\n",
       "    .dataframe thead th {\n",
       "        text-align: right;\n",
       "    }\n",
       "</style>\n",
       "<table border=\"1\" class=\"dataframe\">\n",
       "  <thead>\n",
       "    <tr style=\"text-align: right;\">\n",
       "      <th></th>\n",
       "      <th>index</th>\n",
       "      <th>text</th>\n",
       "    </tr>\n",
       "  </thead>\n",
       "  <tbody>\n",
       "    <tr>\n",
       "      <th>0</th>\n",
       "      <td>1</td>\n",
       "      <td>Australia  Manufacture Covid19 Vaccine  give i...</td>\n",
       "    </tr>\n",
       "    <tr>\n",
       "      <th>1</th>\n",
       "      <td>2</td>\n",
       "      <td>CoronavirusVaccine CoronaVaccine CovidVaccine ...</td>\n",
       "    </tr>\n",
       "    <tr>\n",
       "      <th>2</th>\n",
       "      <td>3</td>\n",
       "      <td>Deaths due  COVID19 in Affected Countries\\nRea...</td>\n",
       "    </tr>\n",
       "    <tr>\n",
       "      <th>3</th>\n",
       "      <td>4</td>\n",
       "      <td>Stay safe  di amp  da</td>\n",
       "    </tr>\n",
       "    <tr>\n",
       "      <th>4</th>\n",
       "      <td>5</td>\n",
       "      <td>This is what passes for leadership in our co...</td>\n",
       "    </tr>\n",
       "    <tr>\n",
       "      <th>...</th>\n",
       "      <td>...</td>\n",
       "      <td>...</td>\n",
       "    </tr>\n",
       "    <tr>\n",
       "      <th>156491</th>\n",
       "      <td>156492</td>\n",
       "      <td>Very good news about  efficacy of  JampJ vacci...</td>\n",
       "    </tr>\n",
       "    <tr>\n",
       "      <th>156492</th>\n",
       "      <td>156493</td>\n",
       "      <td>s Foreign Minister Wang Yi has also said that ...</td>\n",
       "    </tr>\n",
       "    <tr>\n",
       "      <th>156493</th>\n",
       "      <td>156494</td>\n",
       "      <td>Super excited  have received my second covidva...</td>\n",
       "    </tr>\n",
       "    <tr>\n",
       "      <th>156494</th>\n",
       "      <td>156495</td>\n",
       "      <td>Repeat after me Canadians are polite y wont lo...</td>\n",
       "    </tr>\n",
       "    <tr>\n",
       "      <th>156495</th>\n",
       "      <td>156496</td>\n",
       "      <td>Instead of postponing psl why not vaccinate al...</td>\n",
       "    </tr>\n",
       "  </tbody>\n",
       "</table>\n",
       "<p>156491 rows × 2 columns</p>\n",
       "</div>"
      ],
      "text/plain": [
       "         index                                               text\n",
       "0            1  Australia  Manufacture Covid19 Vaccine  give i...\n",
       "1            2  CoronavirusVaccine CoronaVaccine CovidVaccine ...\n",
       "2            3  Deaths due  COVID19 in Affected Countries\\nRea...\n",
       "3            4                            Stay safe  di amp  da  \n",
       "4            5    This is what passes for leadership in our co...\n",
       "...        ...                                                ...\n",
       "156491  156492  Very good news about  efficacy of  JampJ vacci...\n",
       "156492  156493  s Foreign Minister Wang Yi has also said that ...\n",
       "156493  156494  Super excited  have received my second covidva...\n",
       "156494  156495  Repeat after me Canadians are polite y wont lo...\n",
       "156495  156496  Instead of postponing psl why not vaccinate al...\n",
       "\n",
       "[156491 rows x 2 columns]"
      ]
     },
     "execution_count": 17,
     "metadata": {},
     "output_type": "execute_result"
    }
   ],
   "source": [
    "df3"
   ]
  },
  {
   "cell_type": "code",
   "execution_count": 9,
   "metadata": {},
   "outputs": [],
   "source": [
    "df3.to_csv (r'C:\\Users\\schoo2\\Desktop\\HW\\Covid-Vaccine-Hashtagged-Tweets\\Cleaned_Tweets_030821.csv', index = False, header = True, sep = \"|\")"
   ]
  },
  {
   "cell_type": "code",
   "execution_count": null,
   "metadata": {},
   "outputs": [],
   "source": []
  }
 ],
 "metadata": {
  "kernelspec": {
   "display_name": "Python 3",
   "language": "python",
   "name": "python3"
  },
  "language_info": {
   "codemirror_mode": {
    "name": "ipython",
    "version": 3
   },
   "file_extension": ".py",
   "mimetype": "text/x-python",
   "name": "python",
   "nbconvert_exporter": "python",
   "pygments_lexer": "ipython3",
   "version": "3.6.10"
  }
 },
 "nbformat": 4,
 "nbformat_minor": 4
}
